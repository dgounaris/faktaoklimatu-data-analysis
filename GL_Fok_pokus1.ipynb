{
 "cells": [
  {
   "cell_type": "code",
   "execution_count": 117,
   "id": "65813175",
   "metadata": {},
   "outputs": [],
   "source": [
    "import numpy as np\n",
    "import pandas as pd\n",
    "import matplotlib as mpl\n",
    "import matplotlib.pyplot as plt"
   ]
  },
  {
   "cell_type": "markdown",
   "id": "d2adc5fa",
   "metadata": {},
   "source": [
    "Importuj tabulku (její první list). (Tady sem si našel jak na to: https://www.youtube.com/watch?v=t6WSY9D_ORQ)"
   ]
  },
  {
   "cell_type": "code",
   "execution_count": 118,
   "id": "68e9397c",
   "metadata": {},
   "outputs": [],
   "source": [
    "sheet_id =\"1FIuOP9Q58_0LEEuuhggXpuAnvRcs13e8H1buZKWJB3Y\""
   ]
  },
  {
   "cell_type": "code",
   "execution_count": 119,
   "id": "da7afb2c",
   "metadata": {},
   "outputs": [],
   "source": [
    "df= pd.read_csv(f\"https://docs.google.com/spreadsheets/d/{sheet_id}/export?format=csv\")"
   ]
  },
  {
   "cell_type": "markdown",
   "id": "1661682b",
   "metadata": {},
   "source": [
    "Zobraz základní tabulku"
   ]
  },
  {
   "cell_type": "code",
   "execution_count": 120,
   "id": "55c0b548",
   "metadata": {
    "scrolled": true
   },
   "outputs": [
    {
     "data": {
      "text/html": [
       "<div>\n",
       "<style scoped>\n",
       "    .dataframe tbody tr th:only-of-type {\n",
       "        vertical-align: middle;\n",
       "    }\n",
       "\n",
       "    .dataframe tbody tr th {\n",
       "        vertical-align: top;\n",
       "    }\n",
       "\n",
       "    .dataframe thead th {\n",
       "        text-align: right;\n",
       "    }\n",
       "</style>\n",
       "<table border=\"1\" class=\"dataframe\">\n",
       "  <thead>\n",
       "    <tr style=\"text-align: right;\">\n",
       "      <th></th>\n",
       "      <th>Unnamed: 0</th>\n",
       "      <th>Emise Slovensko</th>\n",
       "      <th>Unnamed: 2</th>\n",
       "      <th>Unnamed: 3</th>\n",
       "      <th>Unnamed: 4</th>\n",
       "      <th>Unnamed: 5</th>\n",
       "      <th>Unnamed: 6</th>\n",
       "      <th>Unnamed: 7</th>\n",
       "      <th>Unnamed: 8</th>\n",
       "      <th>Unnamed: 9</th>\n",
       "    </tr>\n",
       "  </thead>\n",
       "  <tbody>\n",
       "    <tr>\n",
       "      <th>0</th>\n",
       "      <td>NaN</td>\n",
       "      <td>adresa</td>\n",
       "      <td>verze</td>\n",
       "      <td>autor</td>\n",
       "      <td>licence</td>\n",
       "      <td>NaN</td>\n",
       "      <td>NaN</td>\n",
       "      <td>NaN</td>\n",
       "      <td>NaN</td>\n",
       "      <td>NaN</td>\n",
       "    </tr>\n",
       "    <tr>\n",
       "      <th>1</th>\n",
       "      <td>NaN</td>\n",
       "      <td>https://faktaoklimatu.cz/infografiky/emise-sr\\...</td>\n",
       "      <td>2020-10-14</td>\n",
       "      <td>Fakta o klimatu</td>\n",
       "      <td>CC BY 4.0</td>\n",
       "      <td>NaN</td>\n",
       "      <td>NaN</td>\n",
       "      <td>NaN</td>\n",
       "      <td>NaN</td>\n",
       "      <td>NaN</td>\n",
       "    </tr>\n",
       "    <tr>\n",
       "      <th>2</th>\n",
       "      <td>NaN</td>\n",
       "      <td>NaN</td>\n",
       "      <td>NaN</td>\n",
       "      <td>NaN</td>\n",
       "      <td>NaN</td>\n",
       "      <td>NaN</td>\n",
       "      <td>NaN</td>\n",
       "      <td>NaN</td>\n",
       "      <td>NaN</td>\n",
       "      <td>NaN</td>\n",
       "    </tr>\n",
       "    <tr>\n",
       "      <th>3</th>\n",
       "      <td>NaN</td>\n",
       "      <td>Historie změn</td>\n",
       "      <td>NaN</td>\n",
       "      <td>NaN</td>\n",
       "      <td>NaN</td>\n",
       "      <td>NaN</td>\n",
       "      <td>NaN</td>\n",
       "      <td>NaN</td>\n",
       "      <td>NaN</td>\n",
       "      <td>NaN</td>\n",
       "    </tr>\n",
       "    <tr>\n",
       "      <th>4</th>\n",
       "      <td>NaN</td>\n",
       "      <td>2020-10-14</td>\n",
       "      <td>První verze datasetu</td>\n",
       "      <td>NaN</td>\n",
       "      <td>NaN</td>\n",
       "      <td>NaN</td>\n",
       "      <td>NaN</td>\n",
       "      <td>NaN</td>\n",
       "      <td>NaN</td>\n",
       "      <td>NaN</td>\n",
       "    </tr>\n",
       "  </tbody>\n",
       "</table>\n",
       "</div>"
      ],
      "text/plain": [
       "  Unnamed: 0                                    Emise Slovensko  \\\n",
       "0        NaN                                             adresa   \n",
       "1        NaN  https://faktaoklimatu.cz/infografiky/emise-sr\\...   \n",
       "2        NaN                                                NaN   \n",
       "3        NaN                                      Historie změn   \n",
       "4        NaN                                         2020-10-14   \n",
       "\n",
       "             Unnamed: 2       Unnamed: 3 Unnamed: 4 Unnamed: 5 Unnamed: 6  \\\n",
       "0                 verze            autor    licence        NaN        NaN   \n",
       "1            2020-10-14  Fakta o klimatu  CC BY 4.0        NaN        NaN   \n",
       "2                   NaN              NaN        NaN        NaN        NaN   \n",
       "3                   NaN              NaN        NaN        NaN        NaN   \n",
       "4  První verze datasetu              NaN        NaN        NaN        NaN   \n",
       "\n",
       "   Unnamed: 7  Unnamed: 8 Unnamed: 9  \n",
       "0         NaN         NaN        NaN  \n",
       "1         NaN         NaN        NaN  \n",
       "2         NaN         NaN        NaN  \n",
       "3         NaN         NaN        NaN  \n",
       "4         NaN         NaN        NaN  "
      ]
     },
     "execution_count": 120,
     "metadata": {},
     "output_type": "execute_result"
    }
   ],
   "source": [
    "df.head()"
   ]
  },
  {
   "cell_type": "markdown",
   "id": "8c639acc",
   "metadata": {},
   "source": [
    "Uprav tabulku"
   ]
  },
  {
   "cell_type": "code",
   "execution_count": 121,
   "id": "7fdebd10",
   "metadata": {},
   "outputs": [],
   "source": [
    "df_2=df.iloc[23:] # zahoď prvních 23 řádků"
   ]
  },
  {
   "cell_type": "code",
   "execution_count": 122,
   "id": "58957929",
   "metadata": {},
   "outputs": [],
   "source": [
    "df_2=df_2.drop(df_2.columns[[0,6,7,8,9]],axis=1) # zahoď nepotřebné sloupce"
   ]
  },
  {
   "cell_type": "code",
   "execution_count": 123,
   "id": "2b656a0b",
   "metadata": {},
   "outputs": [],
   "source": [
    "df_2=df_2.rename(columns=df_2.iloc[0]) # příslušně přejmenuj sloupce\n",
    "df_2=df_2.iloc[1:] # zahoď první řádek (protože nesl názvy sloupců a ty jsou už hozeny do názvů)"
   ]
  },
  {
   "cell_type": "code",
   "execution_count": 124,
   "id": "1150a72e",
   "metadata": {},
   "outputs": [],
   "source": [
    "df_3=df_2.iloc[0:8] # no a teď se potřebuju zbavit těch řádků pod tim. Čili si udělám novou tabulku jen s těma řádkama, který chci. "
   ]
  },
  {
   "cell_type": "code",
   "execution_count": 125,
   "id": "3d221a57",
   "metadata": {
    "scrolled": true
   },
   "outputs": [
    {
     "data": {
      "text/html": [
       "<div>\n",
       "<style scoped>\n",
       "    .dataframe tbody tr th:only-of-type {\n",
       "        vertical-align: middle;\n",
       "    }\n",
       "\n",
       "    .dataframe tbody tr th {\n",
       "        vertical-align: top;\n",
       "    }\n",
       "\n",
       "    .dataframe thead th {\n",
       "        text-align: right;\n",
       "    }\n",
       "</style>\n",
       "<table border=\"1\" class=\"dataframe\">\n",
       "  <thead>\n",
       "    <tr style=\"text-align: right;\">\n",
       "      <th></th>\n",
       "      <th>Sektor</th>\n",
       "      <th>Kód EUROSTAT</th>\n",
       "      <th>MtCO2eq</th>\n",
       "      <th>t CO2eq /osoba/rok</th>\n",
       "      <th>Procenta</th>\n",
       "    </tr>\n",
       "  </thead>\n",
       "  <tbody>\n",
       "    <tr>\n",
       "      <th>24</th>\n",
       "      <td>Průmyslové procesy (výroba cementu, oceli,...)</td>\n",
       "      <td>CRF2</td>\n",
       "      <td>9.61</td>\n",
       "      <td>1.77</td>\n",
       "      <td>22.1</td>\n",
       "    </tr>\n",
       "    <tr>\n",
       "      <th>25</th>\n",
       "      <td>Doprava (včetně letecké)</td>\n",
       "      <td>CRF1A3|CRF1D1A</td>\n",
       "      <td>7.92</td>\n",
       "      <td>1.46</td>\n",
       "      <td>18.2</td>\n",
       "    </tr>\n",
       "    <tr>\n",
       "      <th>26</th>\n",
       "      <td>Spalování v průmyslu</td>\n",
       "      <td>CRF1A2</td>\n",
       "      <td>7.63</td>\n",
       "      <td>1.40</td>\n",
       "      <td>17.5</td>\n",
       "    </tr>\n",
       "    <tr>\n",
       "      <th>27</th>\n",
       "      <td>Energetika</td>\n",
       "      <td>CRF1A1</td>\n",
       "      <td>7.43</td>\n",
       "      <td>1.37</td>\n",
       "      <td>17.1</td>\n",
       "    </tr>\n",
       "    <tr>\n",
       "      <th>28</th>\n",
       "      <td>Spalování v domácnostech, institucích a zemědě...</td>\n",
       "      <td>CRF1A4</td>\n",
       "      <td>4.83</td>\n",
       "      <td>0.89</td>\n",
       "      <td>11.1</td>\n",
       "    </tr>\n",
       "    <tr>\n",
       "      <th>29</th>\n",
       "      <td>Zemědělství</td>\n",
       "      <td>CRF3</td>\n",
       "      <td>2.75</td>\n",
       "      <td>0.50</td>\n",
       "      <td>6.3</td>\n",
       "    </tr>\n",
       "    <tr>\n",
       "      <th>30</th>\n",
       "      <td>Odpadové hospodářství</td>\n",
       "      <td>CRF5</td>\n",
       "      <td>1.68</td>\n",
       "      <td>0.31</td>\n",
       "      <td>3.9</td>\n",
       "    </tr>\n",
       "    <tr>\n",
       "      <th>31</th>\n",
       "      <td>Jiné</td>\n",
       "      <td>[rozdíl do celku]</td>\n",
       "      <td>1.68</td>\n",
       "      <td>0.31</td>\n",
       "      <td>3.9</td>\n",
       "    </tr>\n",
       "  </tbody>\n",
       "</table>\n",
       "</div>"
      ],
      "text/plain": [
       "                                               Sektor       Kód EUROSTAT  \\\n",
       "24     Průmyslové procesy (výroba cementu, oceli,...)               CRF2   \n",
       "25                           Doprava (včetně letecké)     CRF1A3|CRF1D1A   \n",
       "26                               Spalování v průmyslu             CRF1A2   \n",
       "27                                         Energetika             CRF1A1   \n",
       "28  Spalování v domácnostech, institucích a zemědě...             CRF1A4   \n",
       "29                                        Zemědělství               CRF3   \n",
       "30                              Odpadové hospodářství               CRF5   \n",
       "31                                               Jiné  [rozdíl do celku]   \n",
       "\n",
       "   MtCO2eq t CO2eq /osoba/rok Procenta  \n",
       "24    9.61               1.77     22.1  \n",
       "25    7.92               1.46     18.2  \n",
       "26    7.63               1.40     17.5  \n",
       "27    7.43               1.37     17.1  \n",
       "28    4.83               0.89     11.1  \n",
       "29    2.75               0.50      6.3  \n",
       "30    1.68               0.31      3.9  \n",
       "31    1.68               0.31      3.9  "
      ]
     },
     "execution_count": 125,
     "metadata": {},
     "output_type": "execute_result"
    }
   ],
   "source": [
    "df_3.head(10)"
   ]
  },
  {
   "cell_type": "markdown",
   "id": "5e2c8b87",
   "metadata": {},
   "source": [
    "Vytvoř graf"
   ]
  },
  {
   "cell_type": "code",
   "execution_count": 126,
   "id": "df1338ce",
   "metadata": {},
   "outputs": [
    {
     "data": {
      "image/png": "[encoded data removed]",
      "text/plain": [
       "<Figure size 432x288 with 1 Axes>"
      ]
     },
     "metadata": {},
     "output_type": "display_data"
    }
   ],
   "source": [
    "plt.pie(df_3['MtCO2eq'], labels=df_3['Sektor'])\n",
    "plt.show()"
   ]
  }
 ],
 "metadata": {
  "kernelspec": {
   "display_name": "Python 3 (ipykernel)",
   "language": "python",
   "name": "python3"
  },
  "language_info": {
   "codemirror_mode": {
    "name": "ipython",
    "version": 3
   },
   "file_extension": ".py",
   "mimetype": "text/x-python",
   "name": "python",
   "nbconvert_exporter": "python",
   "pygments_lexer": "ipython3",
   "version": "3.9.7"
  }
 },
 "nbformat": 4,
 "nbformat_minor": 5
}
