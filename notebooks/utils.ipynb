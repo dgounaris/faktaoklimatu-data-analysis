{
 "cells": [
  {
   "cell_type": "markdown",
   "id": "ac4557df",
   "metadata": {},
   "source": [
    "## Localization support"
   ]
  },
  {
   "cell_type": "markdown",
   "id": "926dff25",
   "metadata": {},
   "source": [
    "The section below adds localization support so that the eventual plotting can be easily convertible to other languages."
   ]
  },
  {
   "cell_type": "code",
   "execution_count": 2,
   "id": "3ae09f80",
   "metadata": {},
   "outputs": [],
   "source": [
    "import os\n",
    "import yaml\n",
    "import glob\n",
    "from string import Template\n",
    "\n",
    "class Translator():\n",
    "    def __init__(self, translations_folder='../loc', locale='en'):\n",
    "        self.data = {}\n",
    "        \n",
    "        files = glob.glob(os.path.join(translations_folder, f'*.yaml'))\n",
    "        for file in files:\n",
    "            loc = os.path.splitext(os.path.basename(file))[0]\n",
    "            with open(file, 'r', encoding='utf8') as f:\n",
    "                self.data[loc] = yaml.safe_load(f)\n",
    "                \n",
    "        self.set_locale(locale)\n",
    "                \n",
    "    def set_locale(self, loc):\n",
    "        if loc in self.data:\n",
    "            self.locale = loc\n",
    "        else:\n",
    "            raise Exception(f\"Invalid locale {loc}\")\n",
    "            \n",
    "    def get_locale(self):\n",
    "        return self.locale\n",
    "    \n",
    "    def translate(self, key, **kwargs):\n",
    "        datatoken = self.data[self.get_locale()]\n",
    "        for token in key.split('.'):\n",
    "            datatoken = datatoken.get(token)\n",
    "        return Template(datatoken).safe_substitute(**kwargs)"
   ]
  },
  {
   "cell_type": "code",
   "execution_count": null,
   "id": "a9dd0f78",
   "metadata": {},
   "outputs": [],
   "source": []
  }
 ],
 "metadata": {
  "kernelspec": {
   "display_name": "Python 3 (ipykernel)",
   "language": "python",
   "name": "python3"
  },
  "language_info": {
   "codemirror_mode": {
    "name": "ipython",
    "version": 3
   },
   "file_extension": ".py",
   "mimetype": "text/x-python",
   "name": "python",
   "nbconvert_exporter": "python",
   "pygments_lexer": "ipython3",
   "version": "3.11.5"
  }
 },
 "nbformat": 4,
 "nbformat_minor": 5
}
